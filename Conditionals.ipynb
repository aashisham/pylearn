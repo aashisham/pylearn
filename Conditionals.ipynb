{
  "nbformat": 4,
  "nbformat_minor": 0,
  "metadata": {
    "colab": {
      "name": "Conditionals.ipynb",
      "provenance": [],
      "collapsed_sections": [],
      "authorship_tag": "ABX9TyMoqhSq1SWrBp9XfyXwmRE+",
      "include_colab_link": true
    },
    "kernelspec": {
      "name": "python3",
      "display_name": "Python 3"
    },
    "language_info": {
      "name": "python"
    }
  },
  "cells": [
    {
      "cell_type": "markdown",
      "metadata": {
        "id": "view-in-github",
        "colab_type": "text"
      },
      "source": [
        "<a href=\"https://colab.research.google.com/github/aashisham/pylearn/blob/main/Conditionals.ipynb\" target=\"_parent\"><img src=\"https://colab.research.google.com/assets/colab-badge.svg\" alt=\"Open In Colab\"/></a>"
      ]
    },
    {
      "cell_type": "code",
      "source": [
        "#Learning Python : Day - 1 , Jan 31 , 2022"
      ],
      "metadata": {
        "id": "jPfEX3kC6uA_"
      },
      "execution_count": null,
      "outputs": []
    },
    {
      "cell_type": "code",
      "source": [
        "#Loops"
      ],
      "metadata": {
        "id": "cjarOowXy9Zj"
      },
      "execution_count": null,
      "outputs": []
    },
    {
      "cell_type": "code",
      "source": [
        "iterable = [1,2,3]"
      ],
      "metadata": {
        "id": "NZNsfeUh0DEd"
      },
      "execution_count": 3,
      "outputs": []
    },
    {
      "cell_type": "code",
      "source": [
        "for i in iterable:\n",
        "  print('Line', i)"
      ],
      "metadata": {
        "colab": {
          "base_uri": "https://localhost:8080/"
        },
        "id": "3tjBgTFA025b",
        "outputId": "e30caeb9-f297-4c71-92a7-b14f285747a4"
      },
      "execution_count": 4,
      "outputs": [
        {
          "output_type": "stream",
          "name": "stdout",
          "text": [
            "Line 1\n",
            "Line 2\n",
            "Line 3\n"
          ]
        }
      ]
    },
    {
      "cell_type": "code",
      "source": [
        "for i in range(10):\n",
        "  print('line',i)"
      ],
      "metadata": {
        "colab": {
          "base_uri": "https://localhost:8080/"
        },
        "id": "1Gi-W8x809iO",
        "outputId": "a46b76d9-bb28-4509-9f5e-681c43423182"
      },
      "execution_count": 6,
      "outputs": [
        {
          "output_type": "stream",
          "name": "stdout",
          "text": [
            "line 0\n",
            "line 1\n",
            "line 2\n",
            "line 3\n",
            "line 4\n",
            "line 5\n",
            "line 6\n",
            "line 7\n",
            "line 8\n",
            "line 9\n"
          ]
        }
      ]
    },
    {
      "cell_type": "code",
      "source": [
        "#Multiplication table"
      ],
      "metadata": {
        "id": "rj2d4YQ41cDN"
      },
      "execution_count": null,
      "outputs": []
    },
    {
      "cell_type": "code",
      "source": [
        "num = input('enter a number ')\n",
        "number = int (num)\n",
        "\n",
        "for i in range(1,11):\n",
        "  print(number , '*',i , '=', number * i)"
      ],
      "metadata": {
        "colab": {
          "base_uri": "https://localhost:8080/"
        },
        "id": "ovhjyiGu1gP5",
        "outputId": "7ae92e71-69d7-41f8-c6f9-687f474dbe1d"
      },
      "execution_count": 10,
      "outputs": [
        {
          "output_type": "stream",
          "name": "stdout",
          "text": [
            "enter a number 7\n",
            "7 * 1 = 7\n",
            "7 * 2 = 14\n",
            "7 * 3 = 21\n",
            "7 * 4 = 28\n",
            "7 * 5 = 35\n",
            "7 * 6 = 42\n",
            "7 * 7 = 49\n",
            "7 * 8 = 56\n",
            "7 * 9 = 63\n",
            "7 * 10 = 70\n"
          ]
        }
      ]
    },
    {
      "cell_type": "code",
      "source": [
        "#check prime number"
      ],
      "metadata": {
        "id": "mGAVQ4dD2zBf"
      },
      "execution_count": 12,
      "outputs": []
    },
    {
      "cell_type": "code",
      "source": [
        "number = int(input('Enter a number : '))"
      ],
      "metadata": {
        "colab": {
          "base_uri": "https://localhost:8080/"
        },
        "id": "suk183WS2Vl0",
        "outputId": "a02afe08-bc95-4cfd-a58f-1d05c971273e"
      },
      "execution_count": 11,
      "outputs": [
        {
          "name": "stdout",
          "output_type": "stream",
          "text": [
            "Enter a number : 7\n"
          ]
        }
      ]
    },
    {
      "cell_type": "code",
      "source": [
        "for i in range(2, number):\n",
        "  if number % i == 0:\n",
        "    print ('composite number')"
      ],
      "metadata": {
        "id": "50k-araG2olW"
      },
      "execution_count": 13,
      "outputs": []
    },
    {
      "cell_type": "code",
      "source": [
        "is_prime = True  #using flag"
      ],
      "metadata": {
        "id": "aMxAoFXC3n-V"
      },
      "execution_count": 14,
      "outputs": []
    },
    {
      "cell_type": "code",
      "source": [
        "for i in range(2, number):\n",
        "  print(number , i , number %i)\n",
        "  if number % i == 0:\n",
        "    is_prime = False"
      ],
      "metadata": {
        "colab": {
          "base_uri": "https://localhost:8080/"
        },
        "id": "B01xIhjR3vpM",
        "outputId": "2f3d03a8-f4b3-465e-975a-2704e043890d"
      },
      "execution_count": 17,
      "outputs": [
        {
          "output_type": "stream",
          "name": "stdout",
          "text": [
            "7 2 1\n",
            "7 3 1\n",
            "7 4 3\n",
            "7 5 2\n",
            "7 6 1\n"
          ]
        }
      ]
    },
    {
      "cell_type": "code",
      "source": [
        "if(is_prime):\n",
        "  print('prime')\n",
        "else:\n",
        "  print('composite')"
      ],
      "metadata": {
        "colab": {
          "base_uri": "https://localhost:8080/"
        },
        "id": "W7eP6CO634Au",
        "outputId": "2234dbef-d387-4048-cd8f-cb68bca5b22e"
      },
      "execution_count": 18,
      "outputs": [
        {
          "output_type": "stream",
          "name": "stdout",
          "text": [
            "prime\n"
          ]
        }
      ]
    },
    {
      "cell_type": "code",
      "source": [
        "#code to check prime number"
      ],
      "metadata": {
        "id": "UMoBHhPH5mGU"
      },
      "execution_count": 19,
      "outputs": []
    },
    {
      "cell_type": "code",
      "source": [
        "number = int(input('Enter a number : '))\n",
        "is_prime = True  #flag use gareko \n",
        "for i in range(2, number):\n",
        "  # print(number , i , number %i)\n",
        "  if number % i == 0:\n",
        "    is_prime = False\n",
        "\n",
        "if(is_prime):\n",
        "  print('prime')\n",
        "else:\n",
        "  print('composite')\n"
      ],
      "metadata": {
        "colab": {
          "base_uri": "https://localhost:8080/"
        },
        "id": "VyO5otCO5pEw",
        "outputId": "bf9407f3-82cb-4ff8-ae83-cfee5ebf65c5"
      },
      "execution_count": 21,
      "outputs": [
        {
          "output_type": "stream",
          "name": "stdout",
          "text": [
            "Enter a number : 11\n",
            "prime\n"
          ]
        }
      ]
    }
  ]
}